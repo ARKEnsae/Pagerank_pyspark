{
 "cells": [
  {
   "cell_type": "code",
   "execution_count": 182,
   "metadata": {},
   "outputs": [],
   "source": [
    "from pyspark import SparkContext, SparkConf\n",
    "from timeit import default_timer\n",
    "import numpy as np\n",
    "import pandas as pd\n",
    "import networkx as nx\n",
    "import matplotlib.pyplot as plt\n",
    "%matplotlib inline\n",
    "#%matplotlib notebook"
   ]
  },
  {
   "cell_type": "code",
   "execution_count": 203,
   "metadata": {},
   "outputs": [],
   "source": [
    "# Pendant les test pour stopper un SparkContext\n",
    "#sc.stop()"
   ]
  },
  {
   "cell_type": "code",
   "execution_count": 183,
   "metadata": {},
   "outputs": [],
   "source": [
    "# Connexion au cluster / test en local\n",
    "spark_conf = SparkConf()\\\n",
    "    .setAppName('Page Rank With PySpark')\\\n",
    "    .setMaster('local')\n",
    "sc = SparkContext(conf=spark_conf)"
   ]
  },
  {
   "cell_type": "markdown",
   "metadata": {},
   "source": [
    "# Premiers tests sur quelques pages "
   ]
  },
  {
   "cell_type": "markdown",
   "metadata": {},
   "source": [
    "Tests éffectués à partir d'un fichier listant les noeuds représentant les pages web et leurs liens.\n",
    "Fichier Web graphs extrait du site : http://snap.stanford.edu/data/index.html"
   ]
  },
  {
   "cell_type": "code",
   "execution_count": 184,
   "metadata": {},
   "outputs": [],
   "source": [
    "# Taille du fichier initial = dfFile.shape = (5105039, 2)\n",
    "#dfFile = pd.read_csv(\"web-Google.txt\", sep='\\t', header=3)"
   ]
  },
  {
   "cell_type": "code",
   "execution_count": 185,
   "metadata": {},
   "outputs": [
    {
     "name": "stdout",
     "output_type": "stream",
     "text": [
      "(60, 2)\n",
      "(16, 2)\n"
     ]
    }
   ],
   "source": [
    "# Préparation du fichier avant utilisation dans l'algo\n",
    "# Pour les tests récupérations des x premières lignes uniquement \n",
    "dfFile = pd.read_csv(\"data/web-Google.txt\", sep='\\t', header=3, nrows = 60)\n",
    "print(dfFile.shape)\n",
    "#Etant donné que nous ne sélectionons qu'une partie du fichier les noeuds sont filtrés en conséquence\n",
    "nodesList = dfFile['# FromNodeId'].unique()\n",
    "dfFileUniqueNodes = dfFile[dfFile['ToNodeId'].isin(nodesList)]\n",
    "dfFileUniqueNodes.to_csv(\"data/web-GoogleSmall.txt\", sep=' ', header=False, index=False)\n",
    "print(dfFileUniqueNodes.shape)"
   ]
  },
  {
   "cell_type": "code",
   "execution_count": 189,
   "metadata": {},
   "outputs": [
    {
     "data": {
      "image/png": "[encoded data removed]",
      "text/plain": [
       "<Figure size 432x288 with 1 Axes>"
      ]
     },
     "metadata": {},
     "output_type": "display_data"
    }
   ],
   "source": [
    "# Représentation graphique des noeuds (pages) et des liens entre ces noeuds (pages)\n",
    "graph_nodes=nx.from_pandas_edgelist(dfFileUniqueNodes, '# FromNodeId', 'ToNodeId',create_using=nx.DiGraph())\n",
    "graph_nodes=nx.draw_networkx(graph_nodes, node_color = 'orange', node_size = 800,arrows=True)\n",
    "plt.savefig('graph/graph_nodes_test.png')"
   ]
  },
  {
   "cell_type": "code",
   "execution_count": 190,
   "metadata": {},
   "outputs": [],
   "source": [
    "# Read the text file \"GoogleSmall.txt\" from a local file system (available on all nodes),\n",
    "# and return it as an RDD of Strings.\n",
    "RddDataBase = sc.textFile(\"data/web-GoogleSmall.txt\")"
   ]
  },
  {
   "cell_type": "code",
   "execution_count": 191,
   "metadata": {},
   "outputs": [],
   "source": [
    "def linkNodesFromTo(NodesRow):\n",
    "    nodeslinked = NodesRow.split(' ') \n",
    "    return nodeslinked[0], nodeslinked[1]"
   ]
  },
  {
   "cell_type": "markdown",
   "metadata": {},
   "source": [
    "# Premier test en mettant en cache"
   ]
  },
  {
   "cell_type": "markdown",
   "metadata": {},
   "source": [
    "Using cache() and persist() methods, Spark provides an optimization mechanism to store the intermediate computation of an RDD so they can be reused in subsequent actions.When you persist or cache an RDD, each worker node stores it’s partitioned data in memory or disk and reuses them in other actions on that RDD. And Spark’s persisted data on nodes are fault-tolerant meaning if any partition is lost, it will automatically be recomputed using the original transformations that created it.\n",
    "Spark RDD cache() method by default saves RDD computation to storage level `MEMORY_ONLY` meaning it will store the data in the JVM heap as unserialized objects."
   ]
  },
  {
   "cell_type": "code",
   "execution_count": 199,
   "metadata": {},
   "outputs": [
    {
     "name": "stdout",
     "output_type": "stream",
     "text": [
      "[('0', <pyspark.resultiterable.ResultIterable object at 0x0000020B70C211F0>), ('11342', <pyspark.resultiterable.ResultIterable object at 0x0000020B70829430>), ('824020', <pyspark.resultiterable.ResultIterable object at 0x0000020B70C3B250>), ('867923', <pyspark.resultiterable.ResultIterable object at 0x0000020B70C3B520>), ('891835', <pyspark.resultiterable.ResultIterable object at 0x0000020B70C3B100>)]\n",
      "5\n",
      "[('0', 0.2), ('11342', 0.2), ('824020', 0.2), ('867923', 0.2), ('891835', 0.2)]\n",
      "Seconde étape : \n",
      "[('0', 0.26666666666666666), ('11342', 0.18333333333333335), ('824020', 0.05), ('867923', 0.25), ('891835', 0.25)]\n",
      "[('0', 0.2444444444444444), ('11342', 0.23333333333333334), ('824020', 0.06666666666666667), ('867923', 0.22777777777777775), ('891835', 0.22777777777777775)]\n",
      "[('0', 0.2518518518518518), ('11342', 0.2129629629629629), ('824020', 0.0611111111111111), ('867923', 0.23703703703703702), ('891835', 0.23703703703703702)]\n",
      "[('0', 0.24938271604938267), ('11342', 0.22098765432098766), ('824020', 0.06296296296296296), ('867923', 0.23333333333333328), ('891835', 0.2333333333333333)]\n",
      "[('0', 0.2502057613168724), ('11342', 0.21790123456790123), ('824020', 0.06234567901234567), ('867923', 0.23477366255144033), ('891835', 0.23477366255144033)]\n",
      "[('0', 0.24993141289437587), ('11342', 0.21906721536351165), ('824020', 0.0625514403292181), ('867923', 0.23422496570644719), ('891835', 0.23422496570644719)]\n",
      "[('0', 0.2500228623685414), ('11342', 0.21863283036122544), ('824020', 0.06248285322359397), ('867923', 0.2344307270233196), ('891835', 0.2344307270233196)]\n",
      "[('0', 0.2499923792104862), ('11342', 0.21879286694101507), ('824020', 0.06250571559213534), ('867923', 0.2343545191281817), ('891835', 0.2343545191281817)]\n",
      "[('0', 0.25000254026317126), ('11342', 0.21873444088807603), ('824020', 0.06249809480262155), ('867923', 0.2343824620230656), ('891835', 0.2343824620230656)]\n",
      "[('0', 0.24999915324560956), ('11342', 0.21875560974783653), ('824020', 0.06250063506579281), ('867923', 0.23437230097038053), ('891835', 0.23437230097038053)]\n",
      "[('0', 0.2500002822514635), ('11342', 0.21874798895832276), ('824020', 0.06249978831140239), ('867923', 0.23437597023940568), ('891835', 0.23437597023940568)]\n",
      "[('0', 0.24999990591617882), ('11342', 0.21875071738913632), ('824020', 0.06250007056286587), ('867923', 0.2343746530659095), ('891835', 0.2343746530659095)]\n",
      "[('0', 0.25000003136127374), ('11342', 0.21874974518965107), ('824020', 0.062499976479044705), ('867923', 0.23437512348501527), ('891835', 0.23437512348501527)]\n",
      "[('0', 0.24999998954624206), ('11342', 0.21875009016366193), ('824020', 0.06250000784031844), ('867923', 0.23437495622488877), ('891835', 0.23437495622488877)]\n",
      "[('0', 0.25000000348458595), ('11342', 0.218749968203153), ('824020', 0.062499997386560514), ('867923', 0.2343750154628502), ('891835', 0.23437501546285022)]\n",
      "[('0', 0.2499999988384713), ('11342', 0.21875001117971327), ('824020', 0.06250000087114649), ('867923', 0.2343749945553344), ('891835', 0.2343749945553344)]\n",
      "[('0', 0.2500000003871762), ('11342', 0.21874999607984075), ('824020', 0.06249999970961782), ('867923', 0.23437500191168256), ('891835', 0.23437500191168256)]\n",
      "[('0', 0.2499999998709412), ('11342', 0.2187500013712491), ('824020', 0.06250000009679405), ('867923', 0.23437499933050773), ('891835', 0.23437499933050776)]\n",
      "[('0', 0.25000000004301953), ('11342', 0.2187499995214071), ('824020', 0.0624999999677353), ('867923', 0.23437500023391894), ('891835', 0.23437500023391894)]\n",
      "[('0', 0.2499999999856601), ('11342', 0.21875000016670082), ('824020', 0.06250000001075488), ('867923', 0.23437499991844202), ('891835', 0.23437499991844202)]\n",
      "Le temps de calcul en secondes est de : 1013.9279232000044, en minutes est de : 16.898798720000073\n"
     ]
    }
   ],
   "source": [
    "# First step :\n",
    "# Create key/value pairs, \n",
    "# where the key is the name of the page and the value is out-links from the page (Di) \n",
    "# and İnitiate PageRank values (Ri) as 1/Number of pages.\n",
    "\n",
    "# Mapping / Shuffling\n",
    "# Key/value pairs\n",
    "links = RddDataBase.map(lambda NodesRow: linkNodesFromTo(NodesRow)).distinct().groupByKey().cache()\n",
    "print(links.collect())\n",
    "#print(RddDataBase.map(lambda NodesRow: linkNodesFromTo(NodesRow)).distinct().\\\n",
    "#                        groupByKey().\\\n",
    "#                        map(lambda x : (x[0], list(x[1])))\\\n",
    "#      .collect())\n",
    "\n",
    "# Find node count\n",
    "N = links.count()\n",
    "print(N)\n",
    "\n",
    "# Create and initialize the ranks\n",
    "ranks = links.map(lambda node: (node[0],1.0/N))\n",
    "print(ranks.collect())\n",
    "\n",
    "print('Seconde étape : ')\n",
    "#Map: For each node i, \n",
    "#calculate vote (Ri/Di) for each out-link of i and propagate to adjacent nodes.\n",
    "#Reduce: For each node i, sum the upcoming votes and update Rank value (Ri).\n",
    "#Repeat this Map-Reduce step until Rank values converge (stable or within a margin).\n",
    "start = default_timer()\n",
    "nbIter=20\n",
    "for i in range(nbIter):\n",
    "    # Join graph info with rank info and propogate to all neighbors rank scores (rank/(number of neighbors)\n",
    "    # And add up ranks from all in-coming edges\n",
    "    ranks = links.join(ranks).flatMap(lambda x : [(i, float(x[1][1])/len(x[1][0])) for i in x[1][0]])\\\n",
    "                    .reduceByKey(lambda x,y: x+y)\n",
    "    print(ranks.sortByKey().collect())\n",
    "\n",
    "#Vérifie le temps de calcul\n",
    "duration = default_timer() - start\n",
    "print(f'Le temps de calcul en secondes est de : {duration}, en minutes est de : {duration/60}')"
   ]
  },
  {
   "cell_type": "markdown",
   "metadata": {},
   "source": [
    "# Second test sans mettre en cache"
   ]
  },
  {
   "cell_type": "code",
   "execution_count": 200,
   "metadata": {},
   "outputs": [
    {
     "name": "stdout",
     "output_type": "stream",
     "text": [
      "[('0', ['11342', '824020', '867923', '891835']), ('11342', ['0', '867923', '891835']), ('824020', ['0', '867923', '891835']), ('867923', ['0', '11342', '891835']), ('891835', ['0', '11342', '867923'])]\n",
      "5\n",
      "[('0', 0.2), ('11342', 0.2), ('824020', 0.2), ('867923', 0.2), ('891835', 0.2)]\n",
      "[('0', 0.26666666666666666), ('11342', 0.18333333333333335), ('824020', 0.05), ('867923', 0.25), ('891835', 0.25)]\n",
      "[('0', 0.2444444444444444), ('11342', 0.23333333333333334), ('824020', 0.06666666666666667), ('867923', 0.22777777777777775), ('891835', 0.22777777777777775)]\n",
      "[('0', 0.2518518518518518), ('11342', 0.2129629629629629), ('824020', 0.0611111111111111), ('867923', 0.23703703703703702), ('891835', 0.23703703703703702)]\n",
      "[('0', 0.24938271604938267), ('11342', 0.22098765432098766), ('824020', 0.06296296296296296), ('867923', 0.23333333333333328), ('891835', 0.2333333333333333)]\n",
      "[('0', 0.2502057613168724), ('11342', 0.21790123456790123), ('824020', 0.06234567901234567), ('867923', 0.23477366255144033), ('891835', 0.23477366255144033)]\n",
      "[('0', 0.24993141289437587), ('11342', 0.21906721536351165), ('824020', 0.0625514403292181), ('867923', 0.23422496570644719), ('891835', 0.23422496570644719)]\n",
      "[('0', 0.2500228623685414), ('11342', 0.21863283036122544), ('824020', 0.06248285322359397), ('867923', 0.2344307270233196), ('891835', 0.2344307270233196)]\n",
      "[('0', 0.2499923792104862), ('11342', 0.21879286694101507), ('824020', 0.06250571559213534), ('867923', 0.2343545191281817), ('891835', 0.2343545191281817)]\n",
      "[('0', 0.25000254026317126), ('11342', 0.21873444088807603), ('824020', 0.06249809480262155), ('867923', 0.2343824620230656), ('891835', 0.2343824620230656)]\n",
      "[('0', 0.24999915324560956), ('11342', 0.21875560974783653), ('824020', 0.06250063506579281), ('867923', 0.23437230097038053), ('891835', 0.23437230097038053)]\n",
      "[('0', 0.2500002822514635), ('11342', 0.21874798895832276), ('824020', 0.06249978831140239), ('867923', 0.23437597023940568), ('891835', 0.23437597023940568)]\n",
      "[('0', 0.24999990591617882), ('11342', 0.21875071738913632), ('824020', 0.06250007056286587), ('867923', 0.2343746530659095), ('891835', 0.2343746530659095)]\n",
      "[('0', 0.25000003136127374), ('11342', 0.21874974518965107), ('824020', 0.062499976479044705), ('867923', 0.23437512348501527), ('891835', 0.23437512348501527)]\n",
      "[('0', 0.24999998954624206), ('11342', 0.21875009016366193), ('824020', 0.06250000784031844), ('867923', 0.23437495622488877), ('891835', 0.23437495622488877)]\n",
      "[('0', 0.25000000348458595), ('11342', 0.218749968203153), ('824020', 0.062499997386560514), ('867923', 0.2343750154628502), ('891835', 0.23437501546285022)]\n",
      "[('0', 0.2499999988384713), ('11342', 0.21875001117971327), ('824020', 0.06250000087114649), ('867923', 0.2343749945553344), ('891835', 0.2343749945553344)]\n",
      "[('0', 0.2500000003871762), ('11342', 0.21874999607984075), ('824020', 0.06249999970961782), ('867923', 0.23437500191168256), ('891835', 0.23437500191168256)]\n",
      "[('0', 0.2499999998709412), ('11342', 0.2187500013712491), ('824020', 0.06250000009679405), ('867923', 0.23437499933050773), ('891835', 0.23437499933050776)]\n",
      "[('0', 0.25000000004301953), ('11342', 0.2187499995214071), ('824020', 0.0624999999677353), ('867923', 0.23437500023391894), ('891835', 0.23437500023391894)]\n",
      "[('0', 0.2499999999856601), ('11342', 0.21875000016670082), ('824020', 0.06250000001075488), ('867923', 0.23437499991844202), ('891835', 0.23437499991844202)]\n",
      "Le temps de calcul en secondes est de : 955.8948572000008, en minutes est de : 15.931580953333347\n"
     ]
    }
   ],
   "source": [
    "links = RddDataBase.map(lambda NodesRow: linkNodesFromTo(NodesRow)).distinct().\\\n",
    "                        groupByKey().\\\n",
    "                        map(lambda x : (x[0], list(x[1])))\n",
    "print(links.collect())\n",
    "N = links.count()\n",
    "print(N)\n",
    "ranks = links.map(lambda node: (node[0],1.0/N))\n",
    "print(ranks.collect())\n",
    "\n",
    "start = default_timer()\n",
    "nbIter=20\n",
    "for i in range(nbIter):\n",
    "    ranks = links.join(ranks).flatMap(lambda x : [(i, float(x[1][1])/len(x[1][0])) for i in x[1][0]])\\\n",
    "                    .reduceByKey(lambda x,y: x+y)\n",
    "    print(ranks.sortByKey().collect())\n",
    "\n",
    "#Vérifie le temps de calcul\n",
    "duration = default_timer() - start\n",
    "print(f'Le temps de calcul en secondes est de : {duration}, en minutes est de : {duration/60}')"
   ]
  },
  {
   "cell_type": "markdown",
   "metadata": {},
   "source": [
    "@Kim le test n'est pas concluant car même temps si on met cache() ou pas :("
   ]
  },
  {
   "cell_type": "markdown",
   "metadata": {},
   "source": [
    "# Test sur l'ensemble des données"
   ]
  },
  {
   "cell_type": "code",
   "execution_count": 202,
   "metadata": {},
   "outputs": [
    {
     "name": "stdout",
     "output_type": "stream",
     "text": [
      "(5105039, 2)\n",
      "(4779314, 2)\n"
     ]
    },
    {
     "name": "stderr",
     "output_type": "stream",
     "text": [
      "IOPub data rate exceeded.\n",
      "The notebook server will temporarily stop sending output\n",
      "to the client in order to avoid crashing it.\n",
      "To change this limit, set the config variable\n",
      "`--NotebookApp.iopub_data_rate_limit`.\n",
      "\n",
      "Current values:\n",
      "NotebookApp.iopub_data_rate_limit=1000000.0 (bytes/sec)\n",
      "NotebookApp.rate_limit_window=3.0 (secs)\n",
      "\n"
     ]
    },
    {
     "name": "stdout",
     "output_type": "stream",
     "text": [
      "703607\n"
     ]
    },
    {
     "name": "stderr",
     "output_type": "stream",
     "text": [
      "IOPub data rate exceeded.\n",
      "The notebook server will temporarily stop sending output\n",
      "to the client in order to avoid crashing it.\n",
      "To change this limit, set the config variable\n",
      "`--NotebookApp.iopub_data_rate_limit`.\n",
      "\n",
      "Current values:\n",
      "NotebookApp.iopub_data_rate_limit=1000000.0 (bytes/sec)\n",
      "NotebookApp.rate_limit_window=3.0 (secs)\n",
      "\n"
     ]
    },
    {
     "ename": "KeyboardInterrupt",
     "evalue": "",
     "output_type": "error",
     "traceback": [
      "\u001b[1;31m---------------------------------------------------------------------------\u001b[0m",
      "\u001b[1;31mKeyboardInterrupt\u001b[0m                         Traceback (most recent call last)",
      "\u001b[1;32m<ipython-input-202-311f540516a3>\u001b[0m in \u001b[0;36m<module>\u001b[1;34m\u001b[0m\n\u001b[0;32m     24\u001b[0m     \u001b[0mranks\u001b[0m \u001b[1;33m=\u001b[0m \u001b[0mlinks\u001b[0m\u001b[1;33m.\u001b[0m\u001b[0mjoin\u001b[0m\u001b[1;33m(\u001b[0m\u001b[0mranks\u001b[0m\u001b[1;33m)\u001b[0m\u001b[1;33m.\u001b[0m\u001b[0mflatMap\u001b[0m\u001b[1;33m(\u001b[0m\u001b[1;32mlambda\u001b[0m \u001b[0mx\u001b[0m \u001b[1;33m:\u001b[0m \u001b[1;33m[\u001b[0m\u001b[1;33m(\u001b[0m\u001b[0mi\u001b[0m\u001b[1;33m,\u001b[0m \u001b[0mfloat\u001b[0m\u001b[1;33m(\u001b[0m\u001b[0mx\u001b[0m\u001b[1;33m[\u001b[0m\u001b[1;36m1\u001b[0m\u001b[1;33m]\u001b[0m\u001b[1;33m[\u001b[0m\u001b[1;36m1\u001b[0m\u001b[1;33m]\u001b[0m\u001b[1;33m)\u001b[0m\u001b[1;33m/\u001b[0m\u001b[0mlen\u001b[0m\u001b[1;33m(\u001b[0m\u001b[0mx\u001b[0m\u001b[1;33m[\u001b[0m\u001b[1;36m1\u001b[0m\u001b[1;33m]\u001b[0m\u001b[1;33m[\u001b[0m\u001b[1;36m0\u001b[0m\u001b[1;33m]\u001b[0m\u001b[1;33m)\u001b[0m\u001b[1;33m)\u001b[0m \u001b[1;32mfor\u001b[0m \u001b[0mi\u001b[0m \u001b[1;32min\u001b[0m \u001b[0mx\u001b[0m\u001b[1;33m[\u001b[0m\u001b[1;36m1\u001b[0m\u001b[1;33m]\u001b[0m\u001b[1;33m[\u001b[0m\u001b[1;36m0\u001b[0m\u001b[1;33m]\u001b[0m\u001b[1;33m]\u001b[0m\u001b[1;33m)\u001b[0m\u001b[0;31m\\\u001b[0m\u001b[1;33m\u001b[0m\u001b[1;33m\u001b[0m\u001b[0m\n\u001b[0;32m     25\u001b[0m                     \u001b[1;33m.\u001b[0m\u001b[0mreduceByKey\u001b[0m\u001b[1;33m(\u001b[0m\u001b[1;32mlambda\u001b[0m \u001b[0mx\u001b[0m\u001b[1;33m,\u001b[0m\u001b[0my\u001b[0m\u001b[1;33m:\u001b[0m \u001b[0mx\u001b[0m\u001b[1;33m+\u001b[0m\u001b[0my\u001b[0m\u001b[1;33m)\u001b[0m\u001b[1;33m\u001b[0m\u001b[1;33m\u001b[0m\u001b[0m\n\u001b[1;32m---> 26\u001b[1;33m     \u001b[0mprint\u001b[0m\u001b[1;33m(\u001b[0m\u001b[0mranks\u001b[0m\u001b[1;33m.\u001b[0m\u001b[0msortByKey\u001b[0m\u001b[1;33m(\u001b[0m\u001b[1;33m)\u001b[0m\u001b[1;33m.\u001b[0m\u001b[0mcollect\u001b[0m\u001b[1;33m(\u001b[0m\u001b[1;33m)\u001b[0m\u001b[1;33m)\u001b[0m\u001b[1;33m\u001b[0m\u001b[1;33m\u001b[0m\u001b[0m\n\u001b[0m\u001b[0;32m     27\u001b[0m \u001b[1;33m\u001b[0m\u001b[0m\n\u001b[0;32m     28\u001b[0m \u001b[1;31m#Vérifie le temps de calcul\u001b[0m\u001b[1;33m\u001b[0m\u001b[1;33m\u001b[0m\u001b[1;33m\u001b[0m\u001b[0m\n",
      "\u001b[1;32m~\\anaconda3\\lib\\site-packages\\pyspark\\rdd.py\u001b[0m in \u001b[0;36msortByKey\u001b[1;34m(self, ascending, numPartitions, keyfunc)\u001b[0m\n\u001b[0;32m    738\u001b[0m         \u001b[1;31m# the key-space into bins such that the bins have roughly the same\u001b[0m\u001b[1;33m\u001b[0m\u001b[1;33m\u001b[0m\u001b[1;33m\u001b[0m\u001b[0m\n\u001b[0;32m    739\u001b[0m         \u001b[1;31m# number of (key, value) pairs falling into them\u001b[0m\u001b[1;33m\u001b[0m\u001b[1;33m\u001b[0m\u001b[1;33m\u001b[0m\u001b[0m\n\u001b[1;32m--> 740\u001b[1;33m         \u001b[0mrddSize\u001b[0m \u001b[1;33m=\u001b[0m \u001b[0mself\u001b[0m\u001b[1;33m.\u001b[0m\u001b[0mcount\u001b[0m\u001b[1;33m(\u001b[0m\u001b[1;33m)\u001b[0m\u001b[1;33m\u001b[0m\u001b[1;33m\u001b[0m\u001b[0m\n\u001b[0m\u001b[0;32m    741\u001b[0m         \u001b[1;32mif\u001b[0m \u001b[1;32mnot\u001b[0m \u001b[0mrddSize\u001b[0m\u001b[1;33m:\u001b[0m\u001b[1;33m\u001b[0m\u001b[1;33m\u001b[0m\u001b[0m\n\u001b[0;32m    742\u001b[0m             \u001b[1;32mreturn\u001b[0m \u001b[0mself\u001b[0m  \u001b[1;31m# empty RDD\u001b[0m\u001b[1;33m\u001b[0m\u001b[1;33m\u001b[0m\u001b[0m\n",
      "\u001b[1;32m~\\anaconda3\\lib\\site-packages\\pyspark\\rdd.py\u001b[0m in \u001b[0;36mcount\u001b[1;34m(self)\u001b[0m\n\u001b[0;32m   1139\u001b[0m         \u001b[1;36m3\u001b[0m\u001b[1;33m\u001b[0m\u001b[1;33m\u001b[0m\u001b[0m\n\u001b[0;32m   1140\u001b[0m         \"\"\"\n\u001b[1;32m-> 1141\u001b[1;33m         \u001b[1;32mreturn\u001b[0m \u001b[0mself\u001b[0m\u001b[1;33m.\u001b[0m\u001b[0mmapPartitions\u001b[0m\u001b[1;33m(\u001b[0m\u001b[1;32mlambda\u001b[0m \u001b[0mi\u001b[0m\u001b[1;33m:\u001b[0m \u001b[1;33m[\u001b[0m\u001b[0msum\u001b[0m\u001b[1;33m(\u001b[0m\u001b[1;36m1\u001b[0m \u001b[1;32mfor\u001b[0m \u001b[0m_\u001b[0m \u001b[1;32min\u001b[0m \u001b[0mi\u001b[0m\u001b[1;33m)\u001b[0m\u001b[1;33m]\u001b[0m\u001b[1;33m)\u001b[0m\u001b[1;33m.\u001b[0m\u001b[0msum\u001b[0m\u001b[1;33m(\u001b[0m\u001b[1;33m)\u001b[0m\u001b[1;33m\u001b[0m\u001b[1;33m\u001b[0m\u001b[0m\n\u001b[0m\u001b[0;32m   1142\u001b[0m \u001b[1;33m\u001b[0m\u001b[0m\n\u001b[0;32m   1143\u001b[0m     \u001b[1;32mdef\u001b[0m \u001b[0mstats\u001b[0m\u001b[1;33m(\u001b[0m\u001b[0mself\u001b[0m\u001b[1;33m)\u001b[0m\u001b[1;33m:\u001b[0m\u001b[1;33m\u001b[0m\u001b[1;33m\u001b[0m\u001b[0m\n",
      "\u001b[1;32m~\\anaconda3\\lib\\site-packages\\pyspark\\rdd.py\u001b[0m in \u001b[0;36msum\u001b[1;34m(self)\u001b[0m\n\u001b[0;32m   1130\u001b[0m         \u001b[1;36m6.0\u001b[0m\u001b[1;33m\u001b[0m\u001b[1;33m\u001b[0m\u001b[0m\n\u001b[0;32m   1131\u001b[0m         \"\"\"\n\u001b[1;32m-> 1132\u001b[1;33m         \u001b[1;32mreturn\u001b[0m \u001b[0mself\u001b[0m\u001b[1;33m.\u001b[0m\u001b[0mmapPartitions\u001b[0m\u001b[1;33m(\u001b[0m\u001b[1;32mlambda\u001b[0m \u001b[0mx\u001b[0m\u001b[1;33m:\u001b[0m \u001b[1;33m[\u001b[0m\u001b[0msum\u001b[0m\u001b[1;33m(\u001b[0m\u001b[0mx\u001b[0m\u001b[1;33m)\u001b[0m\u001b[1;33m]\u001b[0m\u001b[1;33m)\u001b[0m\u001b[1;33m.\u001b[0m\u001b[0mfold\u001b[0m\u001b[1;33m(\u001b[0m\u001b[1;36m0\u001b[0m\u001b[1;33m,\u001b[0m \u001b[0moperator\u001b[0m\u001b[1;33m.\u001b[0m\u001b[0madd\u001b[0m\u001b[1;33m)\u001b[0m\u001b[1;33m\u001b[0m\u001b[1;33m\u001b[0m\u001b[0m\n\u001b[0m\u001b[0;32m   1133\u001b[0m \u001b[1;33m\u001b[0m\u001b[0m\n\u001b[0;32m   1134\u001b[0m     \u001b[1;32mdef\u001b[0m \u001b[0mcount\u001b[0m\u001b[1;33m(\u001b[0m\u001b[0mself\u001b[0m\u001b[1;33m)\u001b[0m\u001b[1;33m:\u001b[0m\u001b[1;33m\u001b[0m\u001b[1;33m\u001b[0m\u001b[0m\n",
      "\u001b[1;32m~\\anaconda3\\lib\\site-packages\\pyspark\\rdd.py\u001b[0m in \u001b[0;36mfold\u001b[1;34m(self, zeroValue, op)\u001b[0m\n\u001b[0;32m   1001\u001b[0m         \u001b[1;31m# zeroValue provided to each partition is unique from the one provided\u001b[0m\u001b[1;33m\u001b[0m\u001b[1;33m\u001b[0m\u001b[1;33m\u001b[0m\u001b[0m\n\u001b[0;32m   1002\u001b[0m         \u001b[1;31m# to the final reduce call\u001b[0m\u001b[1;33m\u001b[0m\u001b[1;33m\u001b[0m\u001b[1;33m\u001b[0m\u001b[0m\n\u001b[1;32m-> 1003\u001b[1;33m         \u001b[0mvals\u001b[0m \u001b[1;33m=\u001b[0m \u001b[0mself\u001b[0m\u001b[1;33m.\u001b[0m\u001b[0mmapPartitions\u001b[0m\u001b[1;33m(\u001b[0m\u001b[0mfunc\u001b[0m\u001b[1;33m)\u001b[0m\u001b[1;33m.\u001b[0m\u001b[0mcollect\u001b[0m\u001b[1;33m(\u001b[0m\u001b[1;33m)\u001b[0m\u001b[1;33m\u001b[0m\u001b[1;33m\u001b[0m\u001b[0m\n\u001b[0m\u001b[0;32m   1004\u001b[0m         \u001b[1;32mreturn\u001b[0m \u001b[0mreduce\u001b[0m\u001b[1;33m(\u001b[0m\u001b[0mop\u001b[0m\u001b[1;33m,\u001b[0m \u001b[0mvals\u001b[0m\u001b[1;33m,\u001b[0m \u001b[0mzeroValue\u001b[0m\u001b[1;33m)\u001b[0m\u001b[1;33m\u001b[0m\u001b[1;33m\u001b[0m\u001b[0m\n\u001b[0;32m   1005\u001b[0m \u001b[1;33m\u001b[0m\u001b[0m\n",
      "\u001b[1;32m~\\anaconda3\\lib\\site-packages\\pyspark\\rdd.py\u001b[0m in \u001b[0;36mcollect\u001b[1;34m(self)\u001b[0m\n\u001b[0;32m    887\u001b[0m         \"\"\"\n\u001b[0;32m    888\u001b[0m         \u001b[1;32mwith\u001b[0m \u001b[0mSCCallSiteSync\u001b[0m\u001b[1;33m(\u001b[0m\u001b[0mself\u001b[0m\u001b[1;33m.\u001b[0m\u001b[0mcontext\u001b[0m\u001b[1;33m)\u001b[0m \u001b[1;32mas\u001b[0m \u001b[0mcss\u001b[0m\u001b[1;33m:\u001b[0m\u001b[1;33m\u001b[0m\u001b[1;33m\u001b[0m\u001b[0m\n\u001b[1;32m--> 889\u001b[1;33m             \u001b[0msock_info\u001b[0m \u001b[1;33m=\u001b[0m \u001b[0mself\u001b[0m\u001b[1;33m.\u001b[0m\u001b[0mctx\u001b[0m\u001b[1;33m.\u001b[0m\u001b[0m_jvm\u001b[0m\u001b[1;33m.\u001b[0m\u001b[0mPythonRDD\u001b[0m\u001b[1;33m.\u001b[0m\u001b[0mcollectAndServe\u001b[0m\u001b[1;33m(\u001b[0m\u001b[0mself\u001b[0m\u001b[1;33m.\u001b[0m\u001b[0m_jrdd\u001b[0m\u001b[1;33m.\u001b[0m\u001b[0mrdd\u001b[0m\u001b[1;33m(\u001b[0m\u001b[1;33m)\u001b[0m\u001b[1;33m)\u001b[0m\u001b[1;33m\u001b[0m\u001b[1;33m\u001b[0m\u001b[0m\n\u001b[0m\u001b[0;32m    890\u001b[0m         \u001b[1;32mreturn\u001b[0m \u001b[0mlist\u001b[0m\u001b[1;33m(\u001b[0m\u001b[0m_load_from_socket\u001b[0m\u001b[1;33m(\u001b[0m\u001b[0msock_info\u001b[0m\u001b[1;33m,\u001b[0m \u001b[0mself\u001b[0m\u001b[1;33m.\u001b[0m\u001b[0m_jrdd_deserializer\u001b[0m\u001b[1;33m)\u001b[0m\u001b[1;33m)\u001b[0m\u001b[1;33m\u001b[0m\u001b[1;33m\u001b[0m\u001b[0m\n\u001b[0;32m    891\u001b[0m \u001b[1;33m\u001b[0m\u001b[0m\n",
      "\u001b[1;32m~\\anaconda3\\lib\\site-packages\\py4j\\java_gateway.py\u001b[0m in \u001b[0;36m__call__\u001b[1;34m(self, *args)\u001b[0m\n\u001b[0;32m   1301\u001b[0m             \u001b[0mproto\u001b[0m\u001b[1;33m.\u001b[0m\u001b[0mEND_COMMAND_PART\u001b[0m\u001b[1;33m\u001b[0m\u001b[1;33m\u001b[0m\u001b[0m\n\u001b[0;32m   1302\u001b[0m \u001b[1;33m\u001b[0m\u001b[0m\n\u001b[1;32m-> 1303\u001b[1;33m         \u001b[0manswer\u001b[0m \u001b[1;33m=\u001b[0m \u001b[0mself\u001b[0m\u001b[1;33m.\u001b[0m\u001b[0mgateway_client\u001b[0m\u001b[1;33m.\u001b[0m\u001b[0msend_command\u001b[0m\u001b[1;33m(\u001b[0m\u001b[0mcommand\u001b[0m\u001b[1;33m)\u001b[0m\u001b[1;33m\u001b[0m\u001b[1;33m\u001b[0m\u001b[0m\n\u001b[0m\u001b[0;32m   1304\u001b[0m         return_value = get_return_value(\n\u001b[0;32m   1305\u001b[0m             answer, self.gateway_client, self.target_id, self.name)\n",
      "\u001b[1;32m~\\anaconda3\\lib\\site-packages\\py4j\\java_gateway.py\u001b[0m in \u001b[0;36msend_command\u001b[1;34m(self, command, retry, binary)\u001b[0m\n\u001b[0;32m   1031\u001b[0m         \u001b[0mconnection\u001b[0m \u001b[1;33m=\u001b[0m \u001b[0mself\u001b[0m\u001b[1;33m.\u001b[0m\u001b[0m_get_connection\u001b[0m\u001b[1;33m(\u001b[0m\u001b[1;33m)\u001b[0m\u001b[1;33m\u001b[0m\u001b[1;33m\u001b[0m\u001b[0m\n\u001b[0;32m   1032\u001b[0m         \u001b[1;32mtry\u001b[0m\u001b[1;33m:\u001b[0m\u001b[1;33m\u001b[0m\u001b[1;33m\u001b[0m\u001b[0m\n\u001b[1;32m-> 1033\u001b[1;33m             \u001b[0mresponse\u001b[0m \u001b[1;33m=\u001b[0m \u001b[0mconnection\u001b[0m\u001b[1;33m.\u001b[0m\u001b[0msend_command\u001b[0m\u001b[1;33m(\u001b[0m\u001b[0mcommand\u001b[0m\u001b[1;33m)\u001b[0m\u001b[1;33m\u001b[0m\u001b[1;33m\u001b[0m\u001b[0m\n\u001b[0m\u001b[0;32m   1034\u001b[0m             \u001b[1;32mif\u001b[0m \u001b[0mbinary\u001b[0m\u001b[1;33m:\u001b[0m\u001b[1;33m\u001b[0m\u001b[1;33m\u001b[0m\u001b[0m\n\u001b[0;32m   1035\u001b[0m                 \u001b[1;32mreturn\u001b[0m \u001b[0mresponse\u001b[0m\u001b[1;33m,\u001b[0m \u001b[0mself\u001b[0m\u001b[1;33m.\u001b[0m\u001b[0m_create_connection_guard\u001b[0m\u001b[1;33m(\u001b[0m\u001b[0mconnection\u001b[0m\u001b[1;33m)\u001b[0m\u001b[1;33m\u001b[0m\u001b[1;33m\u001b[0m\u001b[0m\n",
      "\u001b[1;32m~\\anaconda3\\lib\\site-packages\\py4j\\java_gateway.py\u001b[0m in \u001b[0;36msend_command\u001b[1;34m(self, command)\u001b[0m\n\u001b[0;32m   1198\u001b[0m \u001b[1;33m\u001b[0m\u001b[0m\n\u001b[0;32m   1199\u001b[0m         \u001b[1;32mtry\u001b[0m\u001b[1;33m:\u001b[0m\u001b[1;33m\u001b[0m\u001b[1;33m\u001b[0m\u001b[0m\n\u001b[1;32m-> 1200\u001b[1;33m             \u001b[0manswer\u001b[0m \u001b[1;33m=\u001b[0m \u001b[0msmart_decode\u001b[0m\u001b[1;33m(\u001b[0m\u001b[0mself\u001b[0m\u001b[1;33m.\u001b[0m\u001b[0mstream\u001b[0m\u001b[1;33m.\u001b[0m\u001b[0mreadline\u001b[0m\u001b[1;33m(\u001b[0m\u001b[1;33m)\u001b[0m\u001b[1;33m[\u001b[0m\u001b[1;33m:\u001b[0m\u001b[1;33m-\u001b[0m\u001b[1;36m1\u001b[0m\u001b[1;33m]\u001b[0m\u001b[1;33m)\u001b[0m\u001b[1;33m\u001b[0m\u001b[1;33m\u001b[0m\u001b[0m\n\u001b[0m\u001b[0;32m   1201\u001b[0m             \u001b[0mlogger\u001b[0m\u001b[1;33m.\u001b[0m\u001b[0mdebug\u001b[0m\u001b[1;33m(\u001b[0m\u001b[1;34m\"Answer received: {0}\"\u001b[0m\u001b[1;33m.\u001b[0m\u001b[0mformat\u001b[0m\u001b[1;33m(\u001b[0m\u001b[0manswer\u001b[0m\u001b[1;33m)\u001b[0m\u001b[1;33m)\u001b[0m\u001b[1;33m\u001b[0m\u001b[1;33m\u001b[0m\u001b[0m\n\u001b[0;32m   1202\u001b[0m             \u001b[1;32mif\u001b[0m \u001b[0manswer\u001b[0m\u001b[1;33m.\u001b[0m\u001b[0mstartswith\u001b[0m\u001b[1;33m(\u001b[0m\u001b[0mproto\u001b[0m\u001b[1;33m.\u001b[0m\u001b[0mRETURN_MESSAGE\u001b[0m\u001b[1;33m)\u001b[0m\u001b[1;33m:\u001b[0m\u001b[1;33m\u001b[0m\u001b[1;33m\u001b[0m\u001b[0m\n",
      "\u001b[1;32m~\\anaconda3\\lib\\socket.py\u001b[0m in \u001b[0;36mreadinto\u001b[1;34m(self, b)\u001b[0m\n\u001b[0;32m    667\u001b[0m         \u001b[1;32mwhile\u001b[0m \u001b[1;32mTrue\u001b[0m\u001b[1;33m:\u001b[0m\u001b[1;33m\u001b[0m\u001b[1;33m\u001b[0m\u001b[0m\n\u001b[0;32m    668\u001b[0m             \u001b[1;32mtry\u001b[0m\u001b[1;33m:\u001b[0m\u001b[1;33m\u001b[0m\u001b[1;33m\u001b[0m\u001b[0m\n\u001b[1;32m--> 669\u001b[1;33m                 \u001b[1;32mreturn\u001b[0m \u001b[0mself\u001b[0m\u001b[1;33m.\u001b[0m\u001b[0m_sock\u001b[0m\u001b[1;33m.\u001b[0m\u001b[0mrecv_into\u001b[0m\u001b[1;33m(\u001b[0m\u001b[0mb\u001b[0m\u001b[1;33m)\u001b[0m\u001b[1;33m\u001b[0m\u001b[1;33m\u001b[0m\u001b[0m\n\u001b[0m\u001b[0;32m    670\u001b[0m             \u001b[1;32mexcept\u001b[0m \u001b[0mtimeout\u001b[0m\u001b[1;33m:\u001b[0m\u001b[1;33m\u001b[0m\u001b[1;33m\u001b[0m\u001b[0m\n\u001b[0;32m    671\u001b[0m                 \u001b[0mself\u001b[0m\u001b[1;33m.\u001b[0m\u001b[0m_timeout_occurred\u001b[0m \u001b[1;33m=\u001b[0m \u001b[1;32mTrue\u001b[0m\u001b[1;33m\u001b[0m\u001b[1;33m\u001b[0m\u001b[0m\n",
      "\u001b[1;31mKeyboardInterrupt\u001b[0m: "
     ]
    }
   ],
   "source": [
    "# Préparation du fichier avant utilisation dans l'algo\n",
    "dfFileAll = pd.read_csv(\"data/web-Google.txt\", sep='\\t', header=3)\n",
    "print(dfFileAll.shape)\n",
    "nodesList = dfFileAll['# FromNodeId'].unique()\n",
    "dfFileAllUniqueNodes = dfFileAll[dfFileAll['ToNodeId'].isin(nodesList)]\n",
    "dfFileAllUniqueNodes.to_csv(\"data/web-GoogleAll.txt\", sep=' ', header=False, index=False)\n",
    "print(dfFileAllUniqueNodes.shape)\n",
    "\n",
    "RddDataBase = sc.textFile(\"data/web-GoogleAll.txt\")\n",
    "links = RddDataBase.map(lambda NodesRow: linkNodesFromTo(NodesRow)).distinct().groupByKey().cache()\n",
    "print(links.collect())\n",
    "\n",
    "N = links.count()\n",
    "print(N)\n",
    "\n",
    "ranks = links.map(lambda node: (node[0],1.0/N))\n",
    "print(ranks.collect())\n",
    "\n",
    "print('Seconde étape : ')\n",
    "\n",
    "start = default_timer()\n",
    "nbIter=5\n",
    "for i in range(nbIter):\n",
    "    ranks = links.join(ranks).flatMap(lambda x : [(i, float(x[1][1])/len(x[1][0])) for i in x[1][0]])\\\n",
    "                    .reduceByKey(lambda x,y: x+y)\n",
    "    print(ranks.sortByKey().collect())\n",
    "\n",
    "#Vérifie le temps de calcul\n",
    "duration = default_timer() - start\n",
    "print(f'Le temps de calcul en secondes est de : {duration}, en minutes est de : {duration/60}')"
   ]
  }
 ],
 "metadata": {
  "kernelspec": {
   "display_name": "Python 3",
   "language": "python",
   "name": "python3"
  },
  "language_info": {
   "codemirror_mode": {
    "name": "ipython",
    "version": 3
   },
   "file_extension": ".py",
   "mimetype": "text/x-python",
   "name": "python",
   "nbconvert_exporter": "python",
   "pygments_lexer": "ipython3",
   "version": "3.8.3"
  }
 },
 "nbformat": 4,
 "nbformat_minor": 4
}
