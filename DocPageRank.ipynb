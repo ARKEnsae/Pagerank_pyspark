{
 "cells": [
  {
   "cell_type": "markdown",
   "metadata": {},
   "source": [
    "# *PageRank* : de l'algorithme classique aux calculs distribués\n",
    "\n",
    "Kim Antunez, Isabelle Bernard pour le projet d'*Elements Logiciels pour le Traitement de Données Massives* (2020-2021)\n"
   ]
  },
  {
   "cell_type": "markdown",
   "metadata": {},
   "source": [
    "## Cadre d'analyse\n",
    "\n",
    "*PageRank* est un algorithme, parmi d'autres, qui mesure la popularité d'une page web. Il fonctionne en classant les pages du Web en fonction de leur popularité (voir description détaillée en partie 1.2).\n",
    "\n",
    "Il a été inventé par Larry Page [1], cofondateur de Google, et est utilisé par le moteur de recherche de l'entreprise. Il s'agit d'une marque déposée dont le premier brevet a été déposé en 1997. Jusqu'en 2016, les internautes pouvaient obtenir une approximation du classement de chaque page mais, depuis, Google ne fournit plus cette valeur. \n",
    "\n",
    "###  Principe recherché par *PageRank*\n"
   ]
  },
  {
   "cell_type": "code",
   "execution_count": 24,
   "metadata": {},
   "outputs": [
    {
     "data": {
      "image/png": "[encoded data removed]",
      "text/plain": [
       "<Figure size 432x288 with 1 Axes>"
      ]
     },
     "metadata": {},
     "output_type": "display_data"
    }
   ],
   "source": [
    "import networkx as nx\n",
    "import matplotlib.pyplot as plt\n",
    "G = nx.DiGraph()\n",
    "G.add_node(1,pos=(1,7))\n",
    "G.add_node(2,pos=(1,6))\n",
    "G.add_node(3,pos=(1,5))\n",
    "G.add_node(4,pos=(1,4))\n",
    "G.add_node(5,pos=(1,3))\n",
    "G.add_node(6,pos=(1,2))\n",
    "G.add_node(7,pos=(2,7))\n",
    "G.add_node(8,pos=(2,6))\n",
    "G.add_node(9,pos=(2,5))\n",
    "G.add_node(10,pos=(2,3))\n",
    "G.add_edges_from([(1, 7), (2, 7),(2, 8),(3, 8),(3, 9),\n",
    "                  (3, 10),(4, 10),(5, 10),(6, 10)])\n",
    "nx.draw(G, nx.get_node_attributes(G,'pos'), with_labels=True,\n",
    "        node_size=1000, node_color = 'orange')\n",
    "plt.show()"
   ]
  },
  {
   "cell_type": "markdown",
   "metadata": {},
   "source": [
    "La modélisation adoptée utilise la théorie des graphes. Le web est un **graphe orienté** $G$ contient $N$ **noeuds** (pages, ici $N = 10$) reliés par des **liens** orientés (hyperliens). Un **degré entrant** (*in-degree*) d'une page correspond aux nombre d'hyperliens qui pointent sur elle et le **degré sortant** (*out-degree*) le nombre d'hyperliens vers lesquels elle pointe. \n",
    "\n",
    "Si l'on veut faire une première vulgarisation de l'algorithme, on peut dire que *PageRank* cherche à respecter les propriétés suivantes : \n",
    "\n",
    "\n",
    "1. **Popularité absolue** : plus le nombre de pages citant une page est grande, plus sa popularité doit être élevée. \n",
    "\n",
    "*Exemple : Dans la figure qui suit, le noeud $10$ est particulièrement populaire car 4 noeuds (les $3$, $4$, $5$ et $6$) pointent vers lui.*\n",
    "\n",
    "2. **Popularité relative** : quand deux pages sont citées le même nombre de fois, c'est la page qui a été le plus cité en proportion par ses voisins qui doit être la plus populaire. \n",
    "\n",
    "*Exemple : On cherche à distinguer la popularité des noeuds $7$ et $8$ qui ont chacun deux noeuds qui pointent vers eux. On considère que le noeud $7$ est plus populaire car le noeud $1$ popularise exclusivement ce noeud, alors que le noeud $3$ popularise le noeud $8$ dans une moindre mesure car il popularise 2 autres noeuds ($9$ et $10$).* \n",
    "\n",
    "=> *PageRank* se rapproche d'une mesure de centralité sur le réseau du web. **Plus la page web a de chance d'être dans les premières positions lors d'une recherche sur internet, plus le *PageRank* sera élevé**. Son principe est d'attribuer à chaque page un score proportionnel au nombre de fois que passerait par cette page un utilisateur parcourant le graphe du Web en cliquant aléatoirement, sur un des liens apparaissant sur chaque page. Une page a un *PageRank* d'autant plus important qu'est grande la somme des *PageRanks* des pages qui pointent vers elle. \n",
    "\n",
    "\n",
    "### Algorithme de *PageRank* \n",
    "\n",
    "La valeur  (ou rang) *PageRank* d'une page $p$ ($r(p)$) dépend des valeurs *PageRank* de chacune des pages $q$ qui pointent vers la page $p$ ($q \\rightarrow p$) divisées par le nombre de noeuds auxquels fait référence la page $q$ ($d(q)$ = degré sortant) : \n",
    "\n",
    "\\begin{equation}\n",
    "r(p)=\\sum_{ q \\rightarrow p}\\frac{r(q)}{d(q)}\n",
    "\\end{equation}\n",
    "\n",
    "L'équation 1 peut être réécrite sous forme matricielle $\\vec{r} = L \\vec{r}$ où le vecteur $\\vec{r}$ est le vecteurs des valeurs PageRank des $N$ pages et la matrice $L$ est telle que $L[q, p] = \\frac{1}{d(q)}$ s'il y a un lien qui relit le noeud $q$ au noeud $p$ et qui vaut 0 sinon.  \n",
    "\n",
    "<mark> @Kim es-tu ok j'ai remplacé $L[i, j] = \\frac{1}{d(i)}$ par $L[q, p] = \\frac{1}{d(q)}$ ? et ... relit le noeud $q$ au noeud $p$ au lieu de relit le noeud $i$ au noeud $j$ pour rester cohérent avec la formule précédente\n",
    "\n",
    "Le programme peut être résolu par l’algorithme de la puissance itérée (*power iteration method*) qui repose sur le théorème de Perron-Frobenius et est dédié à la recherche de valeurs et vecteurs propres. Cet algorithme est utilisé dans le cas de PageRank en raison de la grande taille de la matrice qui encourage à utiliser la matrice au travers de produits, mais sa vitesse de convergence (convergence qui d'ailleurs n'est pas garantie) est assez lente. On stoppe donc l'algorithme après un certain nombre d'itérations ou si la norme L1 de l'écart des valeurs *PageRank* entre 2 itérations est inférieure à un certain seuil de tolérance qui dépend de $N$. \n",
    "\n",
    "### Approximation locale de *PageRank* \n",
    "\n",
    "La très grande taille de ce graphe et son évolution rendent coûteuses en opérations le calcul d'un *PageRank* pour une nouvelle page. C'est pourquoi des **algorithmes d'approximation** existent.\n",
    "\n",
    "L'approximation locale de l'algorithme *PageRank* que nous utilisons s'appuie sur l'article [3]. \n",
    "\n",
    "Il s'agit d'approximer le vecteur des rangs de l'ensemble des pages en faisant un calcul itératif (marche aléatoire). Après avoir initialisé un rang de $\\frac{1}{N}$ pour toutes les pages, on met à jour le vecteur de rangs de la manière suivante où $i$ correspond au numéro de l'itération : \n",
    "\n",
    "\\begin{equation}\n",
    "r^{i+1}(p)=\\sum_{ q \\rightarrow p}\\frac{r^{i}(q)}{d(q)}\n",
    "\\end{equation}\n",
    "\n",
    "Cependant, dans cette formulation, si un noeud $p$ n'a pas de degré sortant $q$, c'est-à-dire qu'il ne fait référence à aucune page (*dangling node*), son rang n'est pas mis à jour dans l'algorithme à l'itération suivante, ce qui entraîne une perte de la valeur totale du *PageRank*. Une solution serait de nettoyer itérativement le graphe en enlevant les pages sans hyperliens. Mais, même en procédant ainsi, le graphe peut toujours contenir des groupes de pages très peu connectés entre eux qui posent le même problème. C'est pourquoi on introduit un facteur d'amortissement $\\alpha$ (par exemple $\\alpha = 0,85$, *teleportation factor*), et avec une probabilité $\\alpha$ on réalise l'algorithme précédent (c'est-à-dire on choisit aléatoirement un degré sortant du noeud considéré) et avec la probabilité $1-\\alpha$ (*damping factor*), on choisit un noeud au hasard : \n",
    "\n",
    "\\begin{equation}\n",
    "r^{i+1}(p)=\\frac{1-\\alpha}{N}+\\alpha \\sum_{ q \\rightarrow p}\\frac{r^{i}(q)}{d(q)}\n",
    "\\end{equation}\n",
    "\n",
    "\n",
    "\n",
    "<!-- Cet algorithme converge si le taux d'évolution du rang du noeud entre 2 itérations est petit et inférieur à un certain seuil $\\varepsilon$ : \n",
    "\n",
    "$$\\left | \\frac{r^{i}(p) - r^{i-1}(p)}{r^{i-1}(p)} \\right | < \\varepsilon$$-->"
   ]
  },
  {
   "cell_type": "markdown",
   "metadata": {},
   "source": [
    "### Approximation locale de *PageRank*  avec l'approche MapReduce avec Spark\n",
    "\n",
    "Comme évoqué en cours d’ELTDM, **MapReduce**, inventé également par Google, permet d’effectuer des calculs parallèles, et souvent distribués, de données potentiellement très volumineuses, en les distribuant dans un cluster de machines.\n",
    "\n",
    "Nous avons vu que l’algorithme *PageRank* est récursif, itératif, et dépend d’une structure de millions d’hyperliens. Le fait de l’implémenter sur une unique machine dont la mémoire doit disposer de l’ensemble du graphe le rend difficilement « scalable ». C’est pourquoi l’utilisation d’une structure en map-reduce se justifie largement ici. \n",
    "\n",
    "**Spark** est un framework open source qui permet de faire le calcul distribué dont nous avons besoin. Il réalise une lecture des données au niveau du cluster (grappe de serveurs sur un réseau), effectue toutes les opérations d'analyse nécessaires, puis écrit les résultats à ce même niveau. Il utilise pour cela un RDD, c'est-à-dire une collection de données calculée et conservée en mémoire vive. \n",
    "\n",
    "Grâce à la librairie python `pyspark` nous avons pu nous initier à cette technologie en l'utilisant sur nos PC en local. \n",
    "\n",
    "\n",
    "#### Version simplifiée\n",
    "\n",
    "Nous l'avons vu, l’idée générale de *PageRank* est de **répandre** les masses de probabilités au fil de chaque flux d’**hyperliens sortants**. A la fin de chaque itération, chaque nœud est résumé par une valeur *PageRank* qui résume les fois où l’utilisateur navigant au hasard passe par la page (voir la figure 1 qui résume différentes itérations de l’algorithme dans le cas simplificateur où $\\alpha = 1$). \n",
    "\n",
    "<mark> @Kim J'ai remplacé $\\alpha = 0$ par $\\alpha = 1$ pour rester cohérent avec la formule précente, es-tu ok ? \n",
    "\n",
    "![Figure1](img/img1.png)\n",
    "\n",
    "**Figure 1** : Schéma de l'algorithme *PageRank*\n",
    "\n",
    "*Source : Lin, Dyer 2010*\n",
    "\n",
    "L’implémentation MapReduce de PageRank est telle que chaque itération se décompose en 2 phases (cf. figure 2) : \n",
    "1. la phase « Map » : on sépare chaque nœud (page) associé à ses hyperliens\n",
    "2. la phase « Reduce » : les contributions sont sommées pour tous les nœuds de destination\n",
    "\n",
    "![Figure2](img/img2.png)\n",
    "\n",
    "**Figure 2** : Schéma de l'algorithme *PageRank* avec l'approche MapReduce\n",
    "\n",
    "*Source : Lin, Dyer 2010*\n",
    "\n",
    "Cela se traduit algorithmiquement par le pseudo-code suivant : \n",
    "\n",
    "        classMapper\n",
    "            method Map(nid n,node N)\n",
    "            p← N.PageRank/|N.AdjacencyList|\n",
    "            Emit(nidn,N) #Pass along graph structure\n",
    "            for all nodeid m∈N. AdjacencyList do \n",
    "                Emit(nidm,p) #Pass PageRank mass to neighbors\n",
    "\n",
    "        classReducer\n",
    "            method Reduce(nid m,[p1,p2,...])\n",
    "            M←∅\n",
    "            for all p∈counts [p1,p2,...] do \n",
    "                if IsNode(p) then \n",
    "                    M←p #Recover graph structure\n",
    "                else\n",
    "                    s←s+p #Sum incoming PageRank contributions\n",
    "            M.PageRank←s\n",
    "            Emit(nid m,node M)\n",
    "    \n",
    "*Source : Lin, Dyer 2010*\n",
    "\n",
    "#### Introduction du facteur $\\alpha$\n",
    "\n",
    "La modélisation se complique légèrement quand on considère le facteur $\\alpha$, comme modélisé dans l'équation 3. Il s’agit alors simplement de redistribuer (faire un nouveau mapping sur tous les nœuds) la masse perdue à l’ensemble des nœuds du graphe de manière égale. \n",
    "\n",
    "Mais il faut pour cela connaître la masse perdue. 3 options sont possibles : \n",
    "\n",
    "1.\tpasser par un compteur\n",
    "2.\tquand le *mapper*  rencontre un *danding node*, sa valeur PageRank est émise par une clef spéciale et le *reducer doit être modifié en conséquence. \n",
    "3.\tcondidérer la masse perdue comme des données « à part » et utiliser les méthodes d’aggregation *in-mapper*\n",
    "\n",
    "Finalement, une itération de *PageRank* fait intervenir 2 processus MapReduce : \n",
    "\n",
    "1. Distribuer la masse PageRank tout au long des hyperliens sortants\n",
    "2. Faire attention aux *danding nodes* et introduire alors le paramètre $\\alpha$\n",
    "\n",
    "\n",
    "\n",
    "**=> Ici, nous simplifions légèrement le processus en supprimant les quelques *dangling nodes* présents dans les données et nous nous concentrons sur l'implémentation des 3 méthodes.** \n",
    "\n",
    "**1. L'algorithme de *PageRank* global (`pagerank_global`)**\n",
    "\n",
    "**2. Son approximation locale telle que décrite dans l'article [3] (`pagerank_local`)**\n",
    "\n",
    "**3. La version parallélisée de l'approximation locale en utilisant les calculs distribués grâce à Spark (`pagerank_local_spark`)**\n",
    "\n",
    "<!--Comme précédemment, on procède à des itérations jusqu’à obtenir convergence (modifications des *PageRank* faible entre 2 itérations. C’est pourquoi le *PageRank driver program* doit vérifier cette condition à la fin de chaque itération. -->"
   ]
  },
  {
   "cell_type": "markdown",
   "metadata": {},
   "source": [
    "## Application\n"
   ]
  },
  {
   "cell_type": "markdown",
   "metadata": {},
   "source": [
    "La base de données utilisée provient de la [librairie SNAP](http://snap.stanford.edu/data/index.html) de l'université de Stanford. Les données qui y sont mises à disposition l'ont été dans la plupart du temps dans des objectifs de recherche. \n",
    "\n",
    "Il s'agit du fichier `web-Google`, mis à disposition par Google en 2002 lors d'un concours de programmeurs, dont les 875 713 noeuds représentent des pages webs et les 5 105 039 liens orientés représentent les hyperliens. "
   ]
  },
  {
   "cell_type": "code",
   "execution_count": 25,
   "metadata": {},
   "outputs": [],
   "source": [
    "from pyspark import SparkContext, SparkConf\n",
    "import numpy as np\n",
    "import pandas as pd\n",
    "import random\n",
    "import networkx as nx\n",
    "import matplotlib.pyplot as plt\n",
    "from timeit import default_timer\n",
    "%matplotlib inline\n",
    "#%matplotlib notebook\n",
    "from operator import add"
   ]
  },
  {
   "cell_type": "markdown",
   "metadata": {},
   "source": [
    "### Fonctions utiles"
   ]
  },
  {
   "cell_type": "markdown",
   "metadata": {},
   "source": [
    "Divers"
   ]
  },
  {
   "cell_type": "code",
   "execution_count": 26,
   "metadata": {},
   "outputs": [],
   "source": [
    "# Charger les données de réseaux, sélectionner le nombre de lignes à garder\n",
    "# et enregistrer le fichier. \n",
    "def sauver_donnees(nb_lignes=60, fichier=\"web-Google\"):\n",
    "    if fichier==\"web-Baidu\":\n",
    "        dfFile = pd.read_csv(\"data/{}.txt\".format(fichier), sep=' ',\n",
    "                             header=1, nrows = nb_lignes)\n",
    "        nodesList = dfFile['#FromNodeId'].unique()\n",
    "    else:\n",
    "        dfFile = pd.read_csv(\"data/{}.txt\".format(fichier), sep='\\t',\n",
    "                             header=3, nrows = nb_lignes)\n",
    "        nodesList = dfFile['# FromNodeId'].unique()\n",
    "        #enlever les donnees inutiles\n",
    "        dfFile = dfFile[dfFile['ToNodeId'].isin(nodesList)] \n",
    "    dfFile.to_csv(\"data/{}{}.txt\".format(fichier, nb_lignes), sep=' ',\n",
    "                  header=False, index=False)\n",
    "    \n",
    "# Afficher les résultats de l'algorithme PageRank à l'utilisateur\n",
    "def afficher_resultats_PR(resultat):\n",
    "    duration = resultat[0]\n",
    "    ranks = resultat[1]\n",
    "    for key in ranks: # 3 chiffres significatifs\n",
    "        ranks[key] = round(ranks[key], 3) \n",
    "    print(f'Le temps de calcul est de {round(duration,4)} secondes')\n",
    "    print(f'La liste des noeuds et de leurs valeurs PageRank finales est')\n",
    "    print(ranks)\n",
    "    print('\\n')"
   ]
  },
  {
   "cell_type": "markdown",
   "metadata": {},
   "source": [
    "Les différents algorithmes de PageRank (global, local non distribué et distribué)"
   ]
  },
  {
   "cell_type": "code",
   "execution_count": 27,
   "metadata": {},
   "outputs": [],
   "source": [
    "def pagerank_global(G, alpha=1, max_iter=100, tol=10000000000000000): \n",
    "  \n",
    "    \"\"\"Retourne : un dictionnaire de noeuds dont les valeurs correspondent\n",
    "     aux PageRank ainsi que le temps de calcul de l'algorithme\n",
    "      \n",
    "    Paramètres\n",
    "    ---------- \n",
    "    -G : graph (de type NetworkX) \n",
    "    -alpha : paramètre d'amortissement (1 par défaut) \n",
    "    -max_iter : nombre maximum d'itération dans la recherche de valeurs propres. \n",
    "    -tol : erreur de tolérence acceptée pour la convergence\n",
    "    de la méthode de recherche des valeurs propres. \n",
    "     \n",
    "    \"\"\"\n",
    "    \n",
    "    start = default_timer()\n",
    "    \n",
    "    # Créer une copie sous forme de graphique droit-stochastique (pour chaque noeud, la somme des poids des liens sortant vaut 1)    \n",
    "    W = nx.stochastic_graph(G, weight=None)\n",
    "    N = W.number_of_nodes() \n",
    "  \n",
    "    # Initialisation à 1/N \n",
    "    x = dict.fromkeys(W, 1.0 / N) \n",
    "    p = dict.fromkeys(W, 1.0 / N)\n",
    "    dangling_weights = x \n",
    "    dangling_nodes = [n for n in W if W.out_degree(n, weight=None) == 0.0] \n",
    "    \n",
    "    #algorithme de la puissance itérée\n",
    "    for _ in range(max_iter): \n",
    "        xlast = x \n",
    "        x = dict.fromkeys(xlast.keys(), 0)\n",
    "        danglesum = alpha * sum(xlast[n] for n in dangling_nodes) \n",
    "        for n in x: \n",
    "  \n",
    "            # multiplication à gauche x^T=xlast^T*W \n",
    "            for nbr in W[n]: \n",
    "                x[nbr] += alpha * xlast[n] * W[n][nbr][None] \n",
    "            x[n] += danglesum * dangling_weights[n] + (1-alpha) * p[n] \n",
    "          \n",
    "        # vérifier la convergence L1\n",
    "        err = sum([abs(x[n] - xlast[n]) for n in x]) \n",
    "        if err < N*tol:\n",
    "            duration = default_timer() - start\n",
    "            retour = (duration, x)\n",
    "            return retour\n",
    "    raise NetworkXError('pagerank: erreur de convergence au bout '\n",
    "                        'de %d iterations.' % max_iter) "
   ]
  },
  {
   "cell_type": "code",
   "execution_count": 28,
   "metadata": {},
   "outputs": [],
   "source": [
    "def pagerank_local(G, alpha=1, max_iter=10,\n",
    "                   only_timer=False, timer_mapreduce=True):  \n",
    "\n",
    "    \"\"\"Retourne : un dictionnaire de noeuds dont les valeurs correspondent\n",
    "     aux PageRank ainsi que le temps de calcul de l'algorithme\n",
    "      \n",
    "    Paramètres\n",
    "    ---------- \n",
    "    -G : graph (de type NetworkX) \n",
    "    -alpha : paramètre d'amortissement (1 par défaut) \n",
    "    -max_iter : nombre maximum d'itération dans la recherche de valeurs propres. \n",
    "    - only_timer : si vaut True, ne retourne que le temps de calcul, sinon retourne \n",
    "    aussi la valeur des rangs à la dernière itération \n",
    "    - timer_mapreduce : si vaut True, le timer calcul l'efficacité de calcul qui peut\n",
    "    être distribuée (map-reduce). si vaut False, le timer calcul le temps\n",
    "    d'initialisation\n",
    "    \n",
    "    \"\"\"\n",
    "    \n",
    "    ### Initialisation\n",
    "    if not timer_mapreduce:\n",
    "            start = default_timer()\n",
    "    # Successors and Predecessors\n",
    "    successors = {node: list(G.successors(node)) for node in list(G.nodes())} \n",
    "    predecessors = {node: list(G.predecessors(node)) for node in list(G.nodes())}\n",
    "    # Calcul du nombre total de noeuds (pages)\n",
    "    N = G.number_of_nodes() \n",
    "    # Initialisation chacun des rangs à 1/N\n",
    "    ranks = {node: 1.0/N for node in list(G.nodes())} \n",
    "    if not timer_mapreduce:\n",
    "            duration = default_timer() - start\n",
    "    \n",
    "    # Lancer le chronomètre pour comparer partie non distribuée avec la partie distribuée\n",
    "    if timer_mapreduce:\n",
    "            start = default_timer()\n",
    "    \n",
    "    for i in range(max_iter):\n",
    "        r_sur_d = {node :(float(1.0/N) if len(successors[node])==0\n",
    "          else float(ranks[node]/len(successors[node]))) for node in list(G.nodes())}\n",
    "        ranks_new = {node: +(1-alpha)/N + alpha * sum([r_sur_d[key] for key in predecessors[node]]) for node in list(G.nodes())}\n",
    "        #print(sum(ranks_new.values()))\n",
    "        ranks = ranks_new\n",
    "    if timer_mapreduce:\n",
    "            duration = default_timer() - start\n",
    "    if only_timer:\n",
    "        retour=duration\n",
    "    else:\n",
    "        retour=(duration, ranks)\n",
    "    return retour"
   ]
  },
  {
   "cell_type": "code",
   "execution_count": 29,
   "metadata": {},
   "outputs": [],
   "source": [
    "# Récupère un noeud entrant et son noeud sortant et les met dans une liste. \n",
    "def ligne_vers_node(ligne):\n",
    "    nodes = ligne.split(' ') \n",
    "    return int(nodes[0]), int(nodes[1])\n",
    "\n",
    "def pagerank_local_spark(RddDataBase,alpha=1, max_iter=10,\n",
    "                         only_timer=False,timer_mapreduce=True): \n",
    "\n",
    "    \"\"\"Retourne : un dictionnaire de noeuds dont les valeurs correspondent\n",
    "     aux PageRank ainsi que le temps de calcul de l'algorithme\n",
    "      \n",
    "    Paramètres\n",
    "    ---------- \n",
    "    -RddDataBase : graph (de type RDD) \n",
    "    -alpha : paramètre d'amortissement (1 par défaut) \n",
    "    -max_iter : nombre maximum d'itération dans la recherche de valeurs propres. \n",
    "    - only_timer : si vaut True, ne retourne que le temps de calcul, sinon retourne \n",
    "    aussi la valeur des rangs à la dernière itération \n",
    "    - timer_mapreduce : si vaut True, le timer calcul l'efficacité de calcul qui peut\n",
    "    être distribuée (map-reduce). si vaut False, le timer calcul le temps\n",
    "    d'initialisation\n",
    "    \n",
    "    \"\"\"\n",
    "\n",
    "    \n",
    "    ### Initialisation\n",
    "    if not timer_mapreduce:\n",
    "            start = default_timer()\n",
    "    # Créer l'association des paires clef/valeur\n",
    "    # Clef : noeud. valeur : noeuds vers lesquels ils pointent (outlinks)\n",
    "    # distinct : on cherche la liste unique des noeuds.\n",
    "    # groupByKey : on groupe par noeud et on regarde les noeuds sortants\n",
    "    links = RddDataBase.map(lambda ligne: ligne_vers_node(ligne))\\\n",
    "    .distinct().groupByKey().cache()\n",
    "    # Calcul du nombre total de noeuds (pages)\n",
    "    N = links.count() #Ne compte pas les dandling nodes !\n",
    "    # Initialisation chacun des rangs à 1/N\n",
    "    ranks = links.map(lambda node: (node[0],1.0/N))\n",
    "    \n",
    "    if not timer_mapreduce:\n",
    "            duration = default_timer() - start\n",
    "    \n",
    "    # Lancer le chronomètre pour la partie distribuée\n",
    "    if timer_mapreduce:\n",
    "            start = default_timer()\n",
    "            \n",
    "    ## MapReduce = mise à jour itérative des rangs\n",
    "    ### étape répétée jusqu'à ce que le nombre d'itérations soit atteint. \n",
    "    for i in range(max_iter):\n",
    "    # MAP = floatMap : Calculer pour chaque noeud p les ratios Rq/Dq \n",
    "    #(float(x[1][1])/len(x[1][0])) des noeuds q sortants de p.\n",
    "        new_ranks = links.join(ranks)\\\n",
    "                    .flatMap(lambda x : [(i, float(x[1][1])/len(x[1][0]))\\\n",
    "                                         for i in x[1][0]])  \n",
    "        #print(new_ranks.sortByKey().collect())\n",
    "        # REDUCE = reduceByKey : Pour chaque noeud p, sommer les valeurs associées \n",
    "        # aux noeuds entrants et mettre à jour les rangs.\n",
    "        #ranks = ranks.reduceByKey(lambda x,y: x+y) #without alpha\n",
    "        new_ranks = new_ranks.reduceByKey(add).mapValues(lambda rank: rank * alpha + (1-alpha)/N)  \n",
    "        #print(sum({row[0]: row[1]  for row in new_ranks.collect()}.values()))\n",
    "        ranks=new_ranks\n",
    "        \n",
    "    ### Temps de calcul\n",
    "    if timer_mapreduce:\n",
    "            duration = default_timer() - start\n",
    "    if only_timer:\n",
    "        retour=duration\n",
    "    else:\n",
    "        retour=(duration, {row[0]: row[1]  for row in ranks.sortByKey().collect()}) #ranks.sortByKey().collect()\n",
    "    return retour"
   ]
  },
  {
   "cell_type": "markdown",
   "metadata": {},
   "source": [
    "Graphiques"
   ]
  },
  {
   "cell_type": "code",
   "execution_count": 30,
   "metadata": {},
   "outputs": [],
   "source": [
    "# Temps de calcul en fonction de la taille du graphe\n",
    "def creer_donnees_graphique_timer_lignes(nbs_lignes,nb_iter,fichier=\"web-Google\",\n",
    "                                         timer_mapreduce=True):\n",
    "    without_spark_list=[]\n",
    "    with_spark_list=[]\n",
    "    for nb_lignes in nbs_lignes: \n",
    "        df = pd.read_csv(\"data/{}{}.txt\".format(fichier,nb_lignes),\n",
    "                     sep=' ', names=[\"in\",\"out\"])\n",
    "        G=nx.from_pandas_edgelist(df, 'in', 'out',create_using=nx.DiGraph())\n",
    "        RddDataBase = sc.textFile(\"data/{}{}.txt\".format(fichier,nb_lignes))\n",
    "        without_spark = pagerank_local(G,max_iter=nb_iter,\n",
    "                                            alpha=0.85, only_timer=True,\n",
    "                                       timer_mapreduce=timer_mapreduce)\n",
    "        without_spark_list.append(without_spark)\n",
    "        with_spark = pagerank_local_spark(RddDataBase,max_iter=nb_iter,\n",
    "                                               alpha=0.85, only_timer=True,\n",
    "                                       timer_mapreduce=timer_mapreduce)\n",
    "        with_spark_list.append(with_spark)\n",
    "    return(with_spark_list,without_spark_list)\n",
    "\n",
    "def creer_graphique_timer_lignes(nbs_lignes,with_spark_list,\n",
    "                                 without_spark_list,nb_iter,\n",
    "                                echelle_log=True,timer_mapreduce=True):    \n",
    "    ax = plt.subplot()\n",
    "    plt.scatter(nbs_lignes,with_spark_list,marker='o')\n",
    "    plt.plot(nbs_lignes,with_spark_list , label=\"Avec Spark\")\n",
    "    plt.scatter(nbs_lignes,without_spark_list,marker='o')\n",
    "    plt.plot(nbs_lignes,without_spark_list , label=\"Sans Spark\")\n",
    "    leg = plt.legend()\n",
    "    leg = plt.legend(bbox_to_anchor=(1.05, 1), loc='upper left')\n",
    "    if timer_mapreduce:\n",
    "        plt.title(\"Temps d'exécution de l'algorithme ({} itérations) en fonction de la taille du fichier\".format(nb_iter))\n",
    "        plt.ylabel(\"Temps d'exécution (secondes)\")\n",
    "    else:\n",
    "        plt.title(\"Temps d'initialisation de l'algorithme ({} itérations) en fonction de la taille du fichier\".format(nb_iter))\n",
    "        plt.ylabel(\"Temps d'initialisation (secondes)\")\n",
    "    if echelle_log:\n",
    "        plt.xscale(\"log\")\n",
    "        plt.xlabel('Taille du fichier (échelle log)')\n",
    "    else:\n",
    "        plt.xlabel('Taille du fichier')\n",
    "    #plt.savefig('Output/name.png')\n",
    "    plt.show()"
   ]
  },
  {
   "cell_type": "code",
   "execution_count": 31,
   "metadata": {},
   "outputs": [],
   "source": [
    "# Temps de calcul en fonction du nombre d'itérations\n",
    "def creer_donnees_graphique_timer_iters(nbs_iters,nb_lignes,fichier=\"web-Google\",\n",
    "                                         timer_mapreduce=True):\n",
    "    without_spark_list=[]\n",
    "    with_spark_list=[]\n",
    "    for nb_iters in nbs_iters: \n",
    "        df = pd.read_csv(\"data/{}{}.txt\".format(fichier,nb_lignes),\n",
    "                     sep=' ', names=[\"in\",\"out\"])\n",
    "        G=nx.from_pandas_edgelist(df, 'in', 'out',create_using=nx.DiGraph())\n",
    "        RddDataBase = sc.textFile(\"data/{}{}.txt\".format(fichier,nb_lignes))\n",
    "        without_spark = pagerank_local(G,max_iter=nb_iters,\n",
    "                                            alpha=0.85, only_timer=True,\n",
    "                                         timer_mapreduce=timer_mapreduce)\n",
    "        without_spark_list.append(without_spark)\n",
    "        with_spark = pagerank_local_spark(RddDataBase,max_iter=nb_iters,\n",
    "                                               alpha=0.85, only_timer=True,\n",
    "                                         timer_mapreduce=timer_mapreduce)\n",
    "        with_spark_list.append(with_spark)\n",
    "    return(with_spark_list,without_spark_list)\n",
    "\n",
    "def creer_graphique_timer_iters(nbs_iters,with_spark_list,\n",
    "                                without_spark_list,nb_lignes,\n",
    "                                echelle_log=True,timer_mapreduce=True):    \n",
    "    ax = plt.subplot()\n",
    "    plt.scatter(nbs_iters,with_spark_list,marker='o')\n",
    "    plt.plot(nbs_iters,with_spark_list , label=\"Avec Spark\")\n",
    "    plt.scatter(nbs_iters,without_spark_list,marker='o')\n",
    "    plt.plot(nbs_iters,without_spark_list , label=\"Sans Spark\")\n",
    "    leg = plt.legend()\n",
    "    leg = plt.legend(bbox_to_anchor=(1.05, 1), loc='upper left')\n",
    "    #leg = plt.legend(loc='best', ncol=2, mode=\"expand\", shadow=True, fancybox=True)\n",
    "    #leg.get_frame().set_alpha(0.5)\n",
    "    if timer_mapreduce:\n",
    "        plt.title(\"Temps d'exécution de l'algorithme en fonction du nombre d'itérations\")\n",
    "        plt.ylabel(\"Temps d'exécution (secondes)\")\n",
    "    else:\n",
    "        plt.title(\"Temps d'initialisation de l'algorithme en fonction du nombre d'itérations\")\n",
    "        plt.ylabel(\"Temps d'initialisation (secondes)\")\n",
    "        \n",
    "    if echelle_log:\n",
    "        plt.xscale(\"log\")\n",
    "        plt.xlabel(\"Nombre d'itérations (échelle log)\")\n",
    "    else:\n",
    "        plt.xlabel(\"Nombre d'itérations\")\n",
    "    \n",
    "    #plt.savefig('Output/name.png')\n",
    "    plt.show()"
   ]
  },
  {
   "cell_type": "markdown",
   "metadata": {},
   "source": [
    "### Exemple illustratif sur un graphe de petite taille"
   ]
  },
  {
   "cell_type": "markdown",
   "metadata": {},
   "source": [
    "Nous présentons tout d'abord quelques résultats (valeurs PageRank finales et temps de calcul) des trois algorithmes implémentés sur un petit extrait du jeu de données et seulement deux itérations. Cette partie a une visée principalement pédagogique.  \n",
    "\n",
    "<mark> Kim TODO : quelques lignes pour commenter les résultats </mark>\n"
   ]
  },
  {
   "cell_type": "code",
   "execution_count": 16,
   "metadata": {},
   "outputs": [
    {
     "data": {
      "image/png": "[encoded data removed]",
      "text/plain": [
       "<Figure size 432x288 with 1 Axes>"
      ]
     },
     "metadata": {},
     "output_type": "display_data"
    }
   ],
   "source": [
    "#sauver_donnees(nb_lignes=100, fichier=\"web-Google\") \n",
    "\n",
    "#Représentation graphique des noeuds (pages) et des liens entre ces noeuds (pages)\n",
    "fichier = \"web-Google\"\n",
    "nb_lignes = 100\n",
    "df1 = pd.read_csv(\"data/{}{}.txt\".format(fichier,nb_lignes),\n",
    "                  sep=' ', names=[\"in\",\"out\"])\n",
    "G1=nx.from_pandas_edgelist(df1, 'in', 'out',create_using=nx.DiGraph())\n",
    "nx.draw_networkx(G1, node_color = 'orange', node_size = 1000,arrows=True)\n",
    "#plt.savefig('graph/graph_nodes_test.png')"
   ]
  },
  {
   "cell_type": "markdown",
   "metadata": {},
   "source": [
    "Remarque : Dans cet exemple il y a un *dangling node* (223236). Un *dandling node* $q$ n'a de lien sortant vers aucun individu, et son ratio $\\frac{r^{i}(q)}{d(q)}$ vaut l'infini puisque $d(q)=0$. Dans ce cas, on doit normalement fixer le ratio à $0$ et rééquilibrer le poids des autres noeuds pour que la somme des rangs soit toujours égale à 1. Ici, pour simplifier les calculs et améliorer la vitesse de l'algorithme, nous retirons ce noeud. "
   ]
  },
  {
   "cell_type": "code",
   "execution_count": 17,
   "metadata": {},
   "outputs": [
    {
     "name": "stdout",
     "output_type": "stream",
     "text": [
      "[223236]\n"
     ]
    }
   ],
   "source": [
    "dangling_nodes = [n for n in G1 if G1.out_degree(n, weight=None) == 0.0] \n",
    "print(dangling_nodes)\n",
    "G1.remove_nodes_from(dangling_nodes) #car méthode ne gère pas dandling nodes"
   ]
  },
  {
   "cell_type": "code",
   "execution_count": 33,
   "metadata": {},
   "outputs": [],
   "source": [
    "# Connexion au cluster / test en local\n",
    "spark_conf = SparkConf()\\\n",
    "    .setAppName('Page Rank With PySpark')\\\n",
    "    .setMaster('local')\n",
    "#sc.stop()\n",
    "sc = SparkContext(conf=spark_conf)\n",
    "\n",
    "#Partitionner les données pour Spark\n",
    "RddDataBase1 = sc.textFile(\"data/{}{}.txt\".format(fichier,nb_lignes))"
   ]
  },
  {
   "cell_type": "markdown",
   "metadata": {},
   "source": [
    "**PageRank global**"
   ]
  },
  {
   "cell_type": "code",
   "execution_count": 59,
   "metadata": {},
   "outputs": [
    {
     "name": "stdout",
     "output_type": "stream",
     "text": [
      "Algorithme global en 2 itérations\n",
      "\n",
      "Pour alpha=1 : \n",
      "Le temps de calcul est de 0.0004 secondes\n",
      "La liste des noeuds et de leurs valeurs PageRank finales est\n",
      "{0: 0.19, 11342: 0.131, 824020: 0.036, 867923: 0.179, 891835: 0.179, 1: 0.143, 203402: 0.143}\n",
      "\n",
      "\n",
      "Pour alpha=0.85 :\n",
      "Le temps de calcul est de 0.0002 secondes\n",
      "La liste des noeuds et de leurs valeurs PageRank finales est\n",
      "{0: 0.183, 11342: 0.133, 824020: 0.052, 867923: 0.173, 891835: 0.173, 1: 0.143, 203402: 0.143}\n",
      "\n",
      "\n"
     ]
    }
   ],
   "source": [
    "print(\"Algorithme global en 2 itérations\\n\")\n",
    "print(\"Pour alpha=1 : \")\n",
    "afficher_resultats_PR(pagerank_global(G1, alpha=1, max_iter=2))\n",
    "print(\"Pour alpha=0.85 :\")\n",
    "afficher_resultats_PR(pagerank_global(G1, alpha=0.85, max_iter=2)) "
   ]
  },
  {
   "cell_type": "markdown",
   "metadata": {},
   "source": [
    "**PageRank local non distribué**"
   ]
  },
  {
   "cell_type": "code",
   "execution_count": 60,
   "metadata": {},
   "outputs": [
    {
     "name": "stdout",
     "output_type": "stream",
     "text": [
      "Algorithme local en 2 itérations\n",
      "\n",
      "Pour alpha=1 : \n",
      "Le temps de calcul est de 0.0004 secondes\n",
      "La liste des noeuds et de leurs valeurs PageRank finales est\n",
      "{0: 0.175, 11342: 0.167, 824020: 0.048, 867923: 0.163, 891835: 0.163, 1: 0.143, 203402: 0.143}\n",
      "\n",
      "\n",
      "Pour alpha=0.85 :\n",
      "Le temps de calcul est de 0.0001 secondes\n",
      "La liste des noeuds et de leurs valeurs PageRank finales est\n",
      "{0: 0.172, 11342: 0.159, 824020: 0.06, 867923: 0.162, 891835: 0.162, 1: 0.143, 203402: 0.143}\n",
      "\n",
      "\n"
     ]
    }
   ],
   "source": [
    "print(\"Algorithme local en 2 itérations\\n\")\n",
    "print(\"Pour alpha=1 : \")\n",
    "afficher_resultats_PR(pagerank_local(G1, alpha=1, max_iter=2))\n",
    "print(\"Pour alpha=0.85 :\")\n",
    "afficher_resultats_PR(pagerank_local(G1, alpha=0.85, max_iter=2)) "
   ]
  },
  {
   "cell_type": "markdown",
   "metadata": {},
   "source": [
    "**PageRank local distribué**"
   ]
  },
  {
   "cell_type": "code",
   "execution_count": 62,
   "metadata": {},
   "outputs": [
    {
     "name": "stdout",
     "output_type": "stream",
     "text": [
      "Algorithme local en 2 itérations\n",
      "\n",
      "Pour alpha=1 : \n",
      "Le temps de calcul est de 0.2582 secondes\n",
      "La liste des noeuds et de leurs valeurs PageRank finales est\n",
      "{0: 0.175, 1: 0.036, 11342: 0.167, 203402: 0.036, 223236: 0.071, 824020: 0.048, 867923: 0.163, 891835: 0.163}\n",
      "\n",
      "\n",
      "Pour alpha=0.85 :\n",
      "Le temps de calcul est de 0.1922 secondes\n",
      "La liste des noeuds et de leurs valeurs PageRank finales est\n",
      "{0: 0.172, 1: 0.056, 11342: 0.159, 203402: 0.056, 223236: 0.091, 824020: 0.06, 867923: 0.162, 891835: 0.162}\n",
      "\n",
      "\n"
     ]
    }
   ],
   "source": [
    "print(\"Algorithme local en 2 itérations\\n\")\n",
    "print(\"Pour alpha=1 : \")\n",
    "afficher_resultats_PR(pagerank_local_spark(RddDataBase1, alpha=1, max_iter=2))\n",
    "print(\"Pour alpha=0.85 :\")\n",
    "afficher_resultats_PR(pagerank_local_spark(RddDataBase1, alpha=0.85, max_iter=2)) "
   ]
  },
  {
   "cell_type": "markdown",
   "metadata": {},
   "source": [
    "### Graphiques de mesure de performance\n",
    "\n",
    "Cette dernière partie vise à illustrer l'efficacité du calcul distribué avec Spark par rapport à la version de l'algorithme sans calcul distribué. "
   ]
  },
  {
   "cell_type": "code",
   "execution_count": 64,
   "metadata": {},
   "outputs": [],
   "source": [
    "spark_conf = SparkConf()\\\n",
    "    .setAppName('Page Rank With PySpark')\\\n",
    "    .setMaster('local')\n",
    "sc.stop()\n",
    "sc = SparkContext(conf=spark_conf)"
   ]
  },
  {
   "cell_type": "markdown",
   "metadata": {},
   "source": [
    "#### Temps de calcul en fonction de la taille du graphe (à nombre d'itérations fixé)\n",
    "\n",
    "Conformément aux intuitions, plus la taille du graphe augmente, plus Spark présente des avantages en termes de temps de calcul. En effet, quand la taille du fichier est très petite, le calcul distribué opéré par Spark ne présente pas d'avantage voire détériore le temps de calcul par rapport à la version non distribuée. En revanche, on remarque qu'à partir d'une certaine taille de graphe, l'efficacité de Spark devient explosive, si bien que nous avons choisi de représenter l'axe des abscisse sous forme logarithmique. \n",
    "\n",
    "Nous observons la même conclusion, pour 5 et 20 itérations (avec bien sûr, des niveaux de temps de calcul, en ordonnée, différents). C'est pourquoi nous regardons d'un peu plus près l'évolution du temps de calcul en fonction du nombre d'itérations dans la partie suivante. "
   ]
  },
  {
   "cell_type": "code",
   "execution_count": 78,
   "metadata": {},
   "outputs": [
    {
     "data": {
      "image/png": "[encoded data removed]",
      "text/plain": [
       "<Figure size 432x288 with 1 Axes>"
      ]
     },
     "metadata": {
      "needs_background": "light"
     },
     "output_type": "display_data"
    }
   ],
   "source": [
    "nbs_lignes=[100,1000,10000,100000,1000000,10000000]\n",
    "with_spark_list, without_spark_list = creer_donnees_graphique_timer_lignes(\n",
    "    nbs_lignes,\n",
    "    nb_iter=5)\n",
    "creer_graphique_timer_lignes(nbs_lignes,with_spark_list,without_spark_list,nb_iter=5)"
   ]
  },
  {
   "cell_type": "code",
   "execution_count": 79,
   "metadata": {},
   "outputs": [
    {
     "data": {
      "image/png": "[encoded data removed]",
      "text/plain": [
       "<Figure size 432x288 with 1 Axes>"
      ]
     },
     "metadata": {
      "needs_background": "light"
     },
     "output_type": "display_data"
    }
   ],
   "source": [
    "nbs_lignes=[100,1000,10000,100000,1000000,10000000]\n",
    "with_spark_list, without_spark_list = creer_donnees_graphique_timer_lignes(\n",
    "    nbs_lignes,\n",
    "    nb_iter=20)\n",
    "creer_graphique_timer_lignes(nbs_lignes,with_spark_list,without_spark_list,nb_iter=20)"
   ]
  },
  {
   "cell_type": "markdown",
   "metadata": {},
   "source": [
    "#### Temps de calcul en fonction du nombre d'itérations (à taille de graphe fixée)\n",
    "\n",
    "En plus d'être de plus en plus efficace au fur et à mesure que la taille des graphes augmente, Spark est également de plus en plus efficace au fur et à mesure que le nombre d'itérations augmente. "
   ]
  },
  {
   "cell_type": "code",
   "execution_count": 97,
   "metadata": {},
   "outputs": [
    {
     "data": {
      "image/png": "[encoded data removed]",
      "text/plain": [
       "<Figure size 432x288 with 1 Axes>"
      ]
     },
     "metadata": {
      "needs_background": "light"
     },
     "output_type": "display_data"
    }
   ],
   "source": [
    "nbs_iters=[10,100,1000]\n",
    "with_spark_list, without_spark_list = creer_donnees_graphique_timer_iters(\n",
    "    nbs_iters,nb_lignes=1000000)\n",
    "creer_graphique_timer_iters(nbs_iters,with_spark_list,\n",
    "                            without_spark_list,nb_lignes=1000000)"
   ]
  },
  {
   "cell_type": "markdown",
   "metadata": {},
   "source": [
    "#### Ouverture : Spark, un outil pas totalement magique \n",
    "\n",
    "<mark> Travail en cours (Kim) </mark>\n",
    "\n",
    "Ce travail a montré que Spark est une méthode assez intuitive et visiblement particulièrement efficace pour distribuer l'algorithme de *PageRank* (boucle d'étapes Map-Reduce) sur des graphes de grandes tailles (*Big Data*). \n",
    "\n",
    "Toutefois, il existe des cas où l'usage de Spark peut devenir inefficace. En effet, comme son fonctionnement est très sophistiqué, cela amène à des tâches d'initialisation chronophages. C'est pourquoi il est en pratique important de monitorer la durée d'initialisation et de la comparer avec la durée computationnelle. \n",
    "\n",
    "On le voit d'ailleurs sur nos données, la durée d'initialisation de l'algorithme *PageRank* est sensiblement plus importante dans la version distribuée utilisant Spark. Cet écart d'initialisation est d'autant plus grand que la taille du graphe est grande."
   ]
  },
  {
   "cell_type": "code",
   "execution_count": 114,
   "metadata": {},
   "outputs": [
    {
     "data": {
      "image/png": "[encoded data removed]",
      "text/plain": [
       "<Figure size 432x288 with 1 Axes>"
      ]
     },
     "metadata": {
      "needs_background": "light"
     },
     "output_type": "display_data"
    }
   ],
   "source": [
    "nbs_lignes=[100,1000,10000,100000,1000000,10000000]\n",
    "with_spark_list, without_spark_list = creer_donnees_graphique_timer_lignes(\n",
    "    nbs_lignes,nb_iter=5, timer_mapreduce=False)\n",
    "creer_graphique_timer_lignes(nbs_lignes,with_spark_list,\n",
    "                             without_spark_list,nb_iter=5,timer_mapreduce=False)"
   ]
  },
  {
   "cell_type": "markdown",
   "metadata": {},
   "source": [
    "<mark>C'est logique ça ne change pas en fonction du nombre d'itération (juste effet aléa) car l'initialisation se fait en amont des itération. On pourra supprimer le graphique au prochain commit car il ne sert à rien mais je te le laisse pour le prochain !</mark>"
   ]
  },
  {
   "cell_type": "code",
   "execution_count": 115,
   "metadata": {},
   "outputs": [
    {
     "data": {
      "image/png": "[encoded data removed]",
      "text/plain": [
       "<Figure size 432x288 with 1 Axes>"
      ]
     },
     "metadata": {
      "needs_background": "light"
     },
     "output_type": "display_data"
    }
   ],
   "source": [
    "nbs_iters=[10,100,1000]\n",
    "with_spark_list, without_spark_list = creer_donnees_graphique_timer_iters(\n",
    "    nbs_iters,nb_lignes=1000000, timer_mapreduce=False)\n",
    "creer_graphique_timer_iters(nbs_iters,with_spark_list, without_spark_list,\n",
    "                            nb_lignes=1000000, timer_mapreduce=False)"
   ]
  },
  {
   "cell_type": "markdown",
   "metadata": {},
   "source": [
    "\n",
    "\n",
    "Pour corriger cela, il existe des méthodes de persistence et de enhancements qui permettent de faire diminuer le temps de la tâche d'initialisation (ex :  spark.sql.shuffle.partitions parameter). \n",
    "\n",
    "<mark> à comprendre et tester éventuellement ? </mark>\n",
    "\n",
    "\n",
    "https://bitworks.software/en/2019-04-12-how-to-run-low-latency-jobs-with-spark.html"
   ]
  },
  {
   "cell_type": "markdown",
   "metadata": {},
   "source": [
    "## Bibliographie \n",
    "\n",
    "[1] S. Brin and L. Page. The anatomy of a large-scalehypertextual web search engine. InProc. of theSeventh World Wide Web Conference, 1998.\n",
    "\n",
    "[2] Z.Bar-Yossefet L.T.Mashiach. « Local Approximation of PageRank and Reverse Page-Rank ». In :CIKM(oct. 2008).\n",
    "\n",
    "[3]  Q. GanY. Chenet T.Suel. « Local methods for estimating PageRank values ». In :CIKM(2004), 381–38\n",
    "\n",
    "[4] Bahmani, B., Chowdhury, A., & Goel, A. (2010). Fast incremental and personalized pagerank. arXiv preprint arXiv:1006.2880.\n",
    "\n",
    "[5] Lin, J., & Dyer, C. (2010). Data-intensive text processing with MapReduce. Synthesis Lectures on Human Language Technologies, 3(1), 1-177. (à partir de la page 106)\n",
    "\n",
    "http://www.economiematin.fr/news-algorythme-page-rank-popularite-web\n",
    "\n",
    "https://www.geeksforgeeks.org/page-rank-algorithm-implementation/\n",
    "\n",
    "http://www.bibmath.net/dico/index.php?action=affiche&quoi=./p/perron-frobenius.html\n",
    "\n",
    "https://univalence.io/blog/articles/shuffle-dans-spark-reducebykey-vs-groupbykey/"
   ]
  }
 ],
 "metadata": {
  "kernelspec": {
   "display_name": "Python 3",
   "language": "python",
   "name": "python3"
  },
  "language_info": {
   "codemirror_mode": {
    "name": "ipython",
    "version": 3
   },
   "file_extension": ".py",
   "mimetype": "text/x-python",
   "name": "python",
   "nbconvert_exporter": "python",
   "pygments_lexer": "ipython3",
   "version": "3.8.3"
  }
 },
 "nbformat": 4,
 "nbformat_minor": 4
}
